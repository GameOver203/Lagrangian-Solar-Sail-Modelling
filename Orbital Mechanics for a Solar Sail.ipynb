{
 "cells": [
  {
   "cell_type": "markdown",
   "id": "750ba27e",
   "metadata": {},
   "source": [
    "# Orbital Mechanics for a Solar Sail\n",
    "\n",
    "This notebook was created for the simulation of a solar sail in various orbital systems.\n",
    "\n"
   ]
  },
  {
   "cell_type": "markdown",
   "id": "8a545134",
   "metadata": {},
   "source": [
    "## Imports\n",
    "\n",
    "There are various libraries that must be imported for the simulation of coupled ODEs"
   ]
  },
  {
   "cell_type": "code",
   "execution_count": 143,
   "id": "16d4a2fa",
   "metadata": {},
   "outputs": [],
   "source": [
    "from scipy.integrate import odeint\n",
    "import numpy as np\n",
    "import math\n",
    "import matplotlib.pyplot as pyplt\n",
    "import matplotlib as plt"
   ]
  },
  {
   "cell_type": "markdown",
   "id": "38e1f84c",
   "metadata": {},
   "source": [
    "## Universal Constants\n",
    "\n",
    "There are some universal constants which remain the same no matter the system and we define them here at a top level for future use."
   ]
  },
  {
   "cell_type": "code",
   "execution_count": 144,
   "id": "372b5478",
   "metadata": {},
   "outputs": [],
   "source": [
    "G_CONSTANT = 6.6743e-11\n",
    "C_CONSTANT = 299792458\n",
    "L0_CONSTANT = 3.828e26\n",
    "SOLAR_MASS_CONSTANT = 1.989e30"
   ]
  },
  {
   "cell_type": "markdown",
   "id": "d7a750c1",
   "metadata": {},
   "source": [
    "## Sail Parameters\n",
    "\n",
    "For our sail, we consider common design trends and come up with parameters based on these for three different designs. The first being a small 'concept' sail, a larger sail for interplanetary travel and an even larger sail for interstellar travel. \n",
    "* In terms of reflectivity, most sails use an aluminium layer of thickness 20 nm or more. This achieves a reflectivity of between 0.88 and 0.9. Thus we base our parameter for the concept and interplanetary designs on the average of these two. I.e. 0.89. For the interstellar vehicle, we assume some progress in technology and thus aim for a reflectivity of 0.95.\n",
    "* For area and mass. We consider their ratio. The IKAROS mission had a mass of 315 kg, an area of 14x14 metres and thus a ratio of 196:315 so we use this for the concept sail. For interstellar designs a ratio of 12960:1 is cited by Robert L. Forward. Thus, for the interplanetary sail we take a value imbetween these of 1000:1.\n"
   ]
  },
  {
   "cell_type": "code",
   "execution_count": 145,
   "id": "bf71d1dd",
   "metadata": {},
   "outputs": [],
   "source": [
    "concept_sail_reflectivity = 0.89\n",
    "planetary_sail_reflectivity = 0.89\n",
    "stellar_sail_reflectivity = 0.95\n",
    "\n",
    "concept_sail_area_to_mass = 0.622\n",
    "planetary_sail_area_to_mass = 1000\n",
    "stellar_sail_reflectivity = 12960"
   ]
  },
  {
   "cell_type": "markdown",
   "id": "295688b0",
   "metadata": {},
   "source": [
    "## 2 Bodies: Sun and Sail"
   ]
  },
  {
   "cell_type": "markdown",
   "id": "b8a6f5b0",
   "metadata": {},
   "source": [
    "For this our two equations are as follows:\n",
    "\n",
    "$$\\ddot r = r \\dot \\theta^2 + \\frac{G M}{r^2} + \\frac{\\left(1 + R \\cos(2 \\phi) \\right) L_0 A}{4 c m \\pi r^2} \\cos(\\phi)$$\n",
    "\n",
    "$$\\ddot \\theta = - \\frac{2 \\dot r \\dot \\theta}{r} - \\frac{R \\sin(2 \\phi) L_0 A}{4 c \\pi m r^3} \\cos(\\phi)$$\n",
    "\n",
    "However, we group parameters in such a way by setting:\n",
    "\n",
    "$$\\tau = t_c t, \\text{ where: } t_c = 31536000 \\\\$$\n",
    "$$\\tilde{r} = r_c r, \\text{ where: } r_c = 1.495978707 \\cdot 10^{11}$$ \n",
    "\n",
    "So as to produce:\n",
    "\n",
    "$$\\tilde{r}^2 \\frac{d^2 \\tilde{r}}{d \\tau^2} = \\tilde{r}^3 \\left(\\frac{d \\theta}{d \\tau}\\right)^2 + \\alpha \\sigma \\left(1 + R \\cos(2 \\phi) \\right) \\cos(\\phi) + \\beta $$\n",
    "$$\\tilde{r}^3 \\frac{d^2 \\theta}{d \\tau^2} = - 2 \\tilde{r}^2 \\frac{d \\tilde{r}}{d \\tau} \\frac{d \\theta}{d \\tau} - \\alpha \\sigma R \\sin(2 \\phi) \\cos(\\phi)$$\n",
    "\n",
    "Where:\n",
    "\n",
    "$$\\alpha = \\frac{t_c^2}{r_c^3} \\frac{L_0}{4 c \\pi}$$\n",
    "$$\\beta = \\frac{t_c^2}{r_c^3} GM$$\n",
    "$$\\sigma = \\frac{A}{m}$$"
   ]
  },
  {
   "cell_type": "code",
   "execution_count": 146,
   "id": "cfed2ef0",
   "metadata": {},
   "outputs": [],
   "source": [
    "alpha = (31536000**2)/((1.495978707e11)**3) * L0_CONSTANT / (4 * C_CONSTANT * math.pi)\n",
    "beta = (31536000**2)/((1.495978707e11)**3) * G_CONSTANT * SOLAR_MASS_CONSTANT"
   ]
  },
  {
   "cell_type": "code",
   "execution_count": 166,
   "id": "1aa8b508",
   "metadata": {},
   "outputs": [],
   "source": [
    "\"\"\"\n",
    "We let:\n",
    "    r'(t) = u\n",
    "    u'(t) = r\n",
    "    \n",
    "    theta'(t) = omega(t)\n",
    "    omega'(t) = -2 u omgea / r - .../r^2 cos(..)\n",
    "\"\"\"\n",
    "\n",
    "def sunAndSailODEs(x,t,R,area_to_mass,phi):\n",
    "    r = x[0]\n",
    "    u = x[1]\n",
    "    theta = x[2]\n",
    "    omega = x[3]\n",
    "      \n",
    "    dudt = r * omega**2 + alpha * area_to_mass * (1 + R * math.cos(2 * phi)) * math.cos(phi) / r**2 + beta/r**2\n",
    "    domegadt = (-2/r) * u * omega - alpha * area_to_mass * R * math.sin(2 * phi) * math.cos(phi) / r**3\n",
    "    \n",
    "    return [u, dudt, omega, domegadt]\n",
    "\n",
    "def limitingODE(x,t):\n",
    "    r = x[0]\n",
    "    u = x[1]\n",
    "    theta = x[2]\n",
    "    omega = x[3]\n",
    "      \n",
    "    dudt = r * omega**2\n",
    "    domegadt = (-2/r) * u * omega\n",
    "    \n",
    "    return [u, dudt, omega, domegadt]"
   ]
  },
  {
   "cell_type": "markdown",
   "id": "445165d9",
   "metadata": {},
   "source": [
    "### Initial Conditions and Arguments\n",
    "\n",
    "We have our concept solar sail initially going around the sun at Earth's orbital radius with an initial velocity equivalent to that of the planet. "
   ]
  },
  {
   "cell_type": "code",
   "execution_count": 226,
   "id": "71114496",
   "metadata": {},
   "outputs": [],
   "source": [
    "r0, rdot0, theta0, thetadot0 = 1, 0, 0, 2*math.pi\n",
    "x0 = [r0,rdot0,theta0,thetadot0]\n",
    "\n",
    "args_for_concept = (concept_sail_reflectivity,concept_sail_area_to_mass,math.pi/4)"
   ]
  },
  {
   "cell_type": "markdown",
   "id": "a217f57d",
   "metadata": {},
   "source": [
    "### Solving ODEs\n",
    "\n",
    "To solve the ODEs we use a function called odeint from the scipy library"
   ]
  },
  {
   "cell_type": "code",
   "execution_count": 227,
   "id": "ba3d7794",
   "metadata": {},
   "outputs": [],
   "source": [
    "t = np.linspace(0, 1,500)\n",
    "\n",
    "x = odeint(sunAndSailODEs, x0,t, args=args_for_limiting_case)\n",
    "r, rdot, theta, thetadot = x[:,0], x[:,1], x[:,2], x[:,3]"
   ]
  },
  {
   "cell_type": "markdown",
   "id": "6bc8dba4",
   "metadata": {},
   "source": [
    "### Plotting Solution\n",
    "\n",
    "We convert back to cartesian to plot the results."
   ]
  },
  {
   "cell_type": "code",
   "execution_count": 228,
   "id": "c72e65c1",
   "metadata": {},
   "outputs": [],
   "source": [
    "def polarToCartesian(r, theta):\n",
    "    x = r * np.cos(theta)\n",
    "    y = r * np.sin(theta)\n",
    "    return(x, y)\n",
    "\n",
    "(x,y) = polarToCartesian(r,theta)"
   ]
  },
  {
   "cell_type": "markdown",
   "id": "1c26e313",
   "metadata": {},
   "source": [
    "### Plotting Orbital Radius as a Function of Time"
   ]
  },
  {
   "cell_type": "code",
   "execution_count": 229,
   "id": "e6617544",
   "metadata": {},
   "outputs": [
    {
     "data": {
      "image/png": "[encoded data removed]",
      "text/plain": [
       "<Figure size 432x288 with 1 Axes>"
      ]
     },
     "metadata": {
      "needs_background": "light"
     },
     "output_type": "display_data"
    }
   ],
   "source": [
    "fig = pyplt.plot(t,r)\n",
    "pyplt.show()"
   ]
  },
  {
   "cell_type": "markdown",
   "id": "3ba0afa5",
   "metadata": {},
   "source": [
    "### Plotting Orbit of Sail"
   ]
  },
  {
   "cell_type": "code",
   "execution_count": 230,
   "id": "ea148ff4",
   "metadata": {
    "scrolled": false
   },
   "outputs": [
    {
     "data": {
      "image/png": "[encoded data removed]",
      "text/plain": [
       "<Figure size 432x288 with 1 Axes>"
      ]
     },
     "metadata": {
      "needs_background": "light"
     },
     "output_type": "display_data"
    }
   ],
   "source": [
    "fig = pyplt.plot(x,y)\n",
    "pyplt.show()"
   ]
  },
  {
   "cell_type": "markdown",
   "id": "8f598c2f",
   "metadata": {},
   "source": [
    "## 5 Bodies: Sun, Earth, Mars, Jupiter and Sail"
   ]
  },
  {
   "cell_type": "markdown",
   "id": "34fd592d",
   "metadata": {},
   "source": [
    "### Generating Function for ODEs"
   ]
  },
  {
   "cell_type": "markdown",
   "id": "8486f579",
   "metadata": {},
   "source": [
    "Below we wish to create a function which can produce arbitrarily many additional planets and add them to "
   ]
  },
  {
   "cell_type": "code",
   "execution_count": null,
   "id": "d01abb83",
   "metadata": {},
   "outputs": [],
   "source": [
    "def generateODEs(param_dict):\n",
    "    \"\"\"\n",
    "    This function takes n bodies in addition to the sun and sail and produces an array of ODEs for simulation.\n",
    "    \"\"\"\n",
    "    \n",
    "    "
   ]
  }
 ],
 "metadata": {
  "kernelspec": {
   "display_name": "Python 3.9.2 64-bit ('base': conda)",
   "language": "python",
   "name": "python392jvsc74a57bd09cf92712724cbbc1f114fdb43a3467004c3e0433ef1e6304bd827ac5c98124f0"
  },
  "language_info": {
   "codemirror_mode": {
    "name": "ipython",
    "version": 3
   },
   "file_extension": ".py",
   "mimetype": "text/x-python",
   "name": "python",
   "nbconvert_exporter": "python",
   "pygments_lexer": "ipython3",
   "version": "3.9.2"
  }
 },
 "nbformat": 4,
 "nbformat_minor": 5
}
