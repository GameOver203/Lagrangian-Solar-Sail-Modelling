{
 "cells": [
  {
   "cell_type": "markdown",
   "id": "750ba27e",
   "metadata": {},
   "source": [
    "# Orbital Mechanics for a Solar Sail\n",
    "\n",
    "This notebook was created for the simulation of a solar sail in various orbital systems.\n",
    "\n"
   ]
  },
  {
   "cell_type": "markdown",
   "id": "8a545134",
   "metadata": {},
   "source": [
    "## Imports\n",
    "\n",
    "There are various libraries that must be imported for the simulation of coupled ODEs"
   ]
  },
  {
   "cell_type": "code",
   "execution_count": 80,
   "id": "16d4a2fa",
   "metadata": {},
   "outputs": [],
   "source": [
    "from scipy.integrate import odeint\n",
    "import numpy as np\n",
    "import math\n",
    "import matplotlib.pyplot as plt\n",
    "import matplotlib.pyplot as plt\n",
    "from matplotlib import cm\n",
    "from matplotlib.ticker import LinearLocator\n",
    "from pycvodes import integrate_predefined\n",
    "import scipy.fft as fft"
   ]
  },
  {
   "cell_type": "markdown",
   "id": "38e1f84c",
   "metadata": {},
   "source": [
    "## Universal Constants\n",
    "\n",
    "There are some universal constants which remain the same no matter the system and we define them here at a top level for future use."
   ]
  },
  {
   "cell_type": "code",
   "execution_count": 3,
   "id": "372b5478",
   "metadata": {},
   "outputs": [],
   "source": [
    "G_CONSTANT = 6.67e-11\n",
    "C_CONSTANT = 299792458\n",
    "L0_CONSTANT = 3.83e26\n",
    "SOLAR_MASS_CONSTANT = 1.99e30\n",
    "EARTH_MASS_CONSTANT = 5.97e24\n",
    "MARS_MASS_CONSTANT = 6.39e23"
   ]
  },
  {
   "cell_type": "markdown",
   "id": "d7a750c1",
   "metadata": {},
   "source": [
    "## Sail Parameters\n",
    "\n",
    "For our sail, we consider common design trends and come up with parameters based on these for three different designs. The first being a small 'concept' sail, a larger sail for interplanetary travel and an even larger sail for interstellar travel. \n",
    "* In terms of reflectivity, most sails use an aluminium layer of thickness 20 nm or more. This achieves a reflectivity of between 0.88 and 0.9. Thus we base our parameter for the concept and interplanetary designs on the average of these two. I.e. 0.89. For the interstellar vehicle, we assume some progress in technology and thus aim for a reflectivity of 0.95.\n",
    "* For area and mass. We consider their ratio. The IKAROS mission had a mass of 315 kg, an area of 14x14 metres and thus a ratio of 196:315 so we use this for the concept sail. For interstellar designs a ratio of 12960:1 is cited by Robert L. Forward. Thus, for the interplanetary sail we take a value imbetween these of 1000:1.\n"
   ]
  },
  {
   "cell_type": "code",
   "execution_count": 4,
   "id": "bf71d1dd",
   "metadata": {},
   "outputs": [],
   "source": [
    "concept_sail_reflectivity = 0.89\n",
    "planetary_sail_reflectivity = 0.89\n",
    "stellar_sail_reflectivity = 0.95\n",
    "\n",
    "concept_sail_mass_to_area = 1/0.622\n",
    "planetary_sail_mass_to_area = 1/1000\n",
    "stellar_sail_mass_to_area = 1/12960"
   ]
  },
  {
   "cell_type": "markdown",
   "id": "295688b0",
   "metadata": {},
   "source": [
    "## 2 Bodies: Sun and Sail"
   ]
  },
  {
   "cell_type": "markdown",
   "id": "b8a6f5b0",
   "metadata": {},
   "source": [
    "For this our two equations are as follows:\n",
    "\n",
    "$$\\ddot r = r \\dot \\theta^2 + \\frac{G M}{r^2} + \\frac{\\left(1 + R \\cos(2 \\phi) \\right) L_0 A}{4 c m \\pi r^2} \\cos(\\phi)$$\n",
    "\n",
    "$$\\ddot \\theta = - \\frac{2 \\dot r \\dot \\theta}{r} - \\frac{R \\sin(2 \\phi) L_0 A}{4 c \\pi m r^3} \\cos(\\phi)$$\n",
    "\n",
    "However, we group parameters in such a way by setting:\n",
    "\n",
    "$$\\tau = t_c t, \\text{ where: } t_c = 31536000 \\\\$$\n",
    "$$\\tilde{r} = r_c r, \\text{ where: } r_c = 1.495978707 \\cdot 10^{11}$$ \n",
    "\n",
    "So as to produce:\n",
    "\n",
    "$$\\tilde{r}^2 \\frac{d^2 \\tilde{r}}{d \\tau^2} = \\tilde{r}^3 \\left(\\frac{d \\theta}{d \\tau}\\right)^2 + \\alpha \\sigma \\left(1 + R \\cos(2 \\phi) \\right) \\cos(\\phi) + \\beta $$\n",
    "$$\\tilde{r}^3 \\frac{d^2 \\theta}{d \\tau^2} = - 2 \\tilde{r}^2 \\frac{d \\tilde{r}}{d \\tau} \\frac{d \\theta}{d \\tau} - \\alpha \\sigma R \\sin(2 \\phi) \\cos(\\phi)$$\n",
    "\n",
    "Where:\n",
    "\n",
    "$$\\alpha = \\frac{t_c^2}{r_c^3} \\frac{L_0}{4 c \\pi}$$\n",
    "$$\\beta = \\frac{t_c^2}{r_c^3} GM$$\n",
    "$$\\sigma = \\frac{m}{A}$$"
   ]
  },
  {
   "cell_type": "code",
   "execution_count": 5,
   "id": "cfed2ef0",
   "metadata": {},
   "outputs": [],
   "source": [
    "ts = 365 * 24 * 60 * 60\n",
    "rs = 1.495978707e11"
   ]
  },
  {
   "cell_type": "code",
   "execution_count": 6,
   "id": "0fc5d519",
   "metadata": {},
   "outputs": [
    {
     "name": "stdout",
     "output_type": "stream",
     "text": [
      "0.03019987773807573\n",
      "39.429011388749956\n"
     ]
    }
   ],
   "source": [
    "alpha = ((ts**2)/(rs**3)) * (L0_CONSTANT / (4 * C_CONSTANT * math.pi))\n",
    "print(alpha)\n",
    "beta = ((ts**2)/(rs**3)) * G_CONSTANT * SOLAR_MASS_CONSTANT\n",
    "print(beta)"
   ]
  },
  {
   "cell_type": "code",
   "execution_count": 7,
   "id": "1aa8b508",
   "metadata": {},
   "outputs": [],
   "source": [
    "def sunAndSailODEs(y,t,R,sigma,phi):\n",
    "    r = y[0]\n",
    "    rdot = y[1]\n",
    "    theta = y[2]\n",
    "    thetadot = y[3]\n",
    "    \n",
    "    rddot = r * (thetadot**2) + r**(-2) * (alpha / sigma) * (1 + R * np.cos(2 * phi)) * np.cos(phi) - (beta / r**2)\n",
    "    thetaddot = ((-2)/r) * rdot * thetadot - r**(-3) * (alpha / sigma) * R * np.sin(2 * phi) * np.cos(phi)\n",
    "    \n",
    "    return [rdot, rddot, thetadot, thetaddot]\n",
    "\n",
    "def limitingODEs(y,t):\n",
    "    r = y[0]\n",
    "    rdot = y[1]\n",
    "    theta = y[2]\n",
    "    thetadot = y[3]\n",
    "    \n",
    "    rddot = r * (thetadot**2) - (beta / r**2)\n",
    "    thetaddot = ((-2)/r) * rdot * thetadot\n",
    "    \n",
    "    return [rdot, rddot, thetadot, thetaddot]"
   ]
  },
  {
   "cell_type": "markdown",
   "id": "445165d9",
   "metadata": {},
   "source": [
    "### Initial Conditions and Arguments\n",
    "\n",
    "We have our concept solar sail initially going around the sun at Earth's orbital radius with an initial velocity equivalent to that of the planet. "
   ]
  },
  {
   "cell_type": "code",
   "execution_count": 8,
   "id": "71114496",
   "metadata": {},
   "outputs": [],
   "source": [
    "r0, rdot0, theta0, thetadot0 = 1, 0, 0, 2 * math.pi\n",
    "y0 = [r0,rdot0,theta0,thetadot0]"
   ]
  },
  {
   "cell_type": "markdown",
   "id": "a217f57d",
   "metadata": {},
   "source": [
    "### Solving ODEs\n",
    "\n",
    "To solve the ODEs we use a function called odeint from the scipy library"
   ]
  },
  {
   "cell_type": "code",
   "execution_count": 70,
   "id": "ba3d7794",
   "metadata": {},
   "outputs": [],
   "source": [
    "t = np.linspace(0, 100,100000)\n",
    "\n",
    "y,info = odeint(sunAndSailODEs, y0,t, args=(0.9, 5e-3,(-1/8) * np.pi), full_output=1) #printmessg=True, full_output=True\n",
    "y1,info1 = odeint(limitingODEs, y0,t, full_output=1)\n",
    "\n",
    "r, rdot, theta, thetadot = y[:,0], y[:,1], y[:,2], y[:,3]\n",
    "r1, rdot1, theta1, thetadot1 = y1[:,0], y1[:,1], y1[:,2], y1[:,3]"
   ]
  },
  {
   "cell_type": "markdown",
   "id": "6bc8dba4",
   "metadata": {},
   "source": [
    "### Plotting Solution\n",
    "\n",
    "We convert back to cartesian to plot the results."
   ]
  },
  {
   "cell_type": "code",
   "execution_count": 71,
   "id": "c72e65c1",
   "metadata": {},
   "outputs": [],
   "source": [
    "def polarToCartesian(r, theta):\n",
    "    x = r * np.cos(theta)\n",
    "    y = r * np.sin(theta)\n",
    "    return(x, y)\n",
    "\n",
    "(x,y) = polarToCartesian(r,theta)\n",
    "(x1,y1) = polarToCartesian(r1,theta1)"
   ]
  },
  {
   "cell_type": "markdown",
   "id": "1c26e313",
   "metadata": {},
   "source": [
    "### Plotting Orbital Radius as a Function of Time"
   ]
  },
  {
   "cell_type": "code",
   "execution_count": 74,
   "id": "e6617544",
   "metadata": {},
   "outputs": [
    {
     "data": {
      "image/png": "[encoded data removed]",
      "text/plain": [
       "<Figure size 432x288 with 1 Axes>"
      ]
     },
     "metadata": {
      "needs_background": "light"
     },
     "output_type": "display_data"
    },
    {
     "data": {
      "image/png": "[encoded data removed]",
      "text/plain": [
       "<Figure size 432x288 with 1 Axes>"
      ]
     },
     "metadata": {
      "needs_background": "light"
     },
     "output_type": "display_data"
    }
   ],
   "source": [
    "# fig = plt.plot(t,r)\n",
    "freq_axis = fft.rfftfreq(10000, 1/1000)\n",
    "plt.plot(t, thetadot)\n",
    "plt.show()\n",
    "\n",
    "plt.plot(t, theta)\n",
    "plt.show()\n",
    "\n",
    "# plt.plot(t,thetadot1)\n",
    "# plt.show()\n",
    "\n",
    "# plt.plot(t,theta1)\n",
    "# plt.show()"
   ]
  },
  {
   "cell_type": "markdown",
   "id": "3ba0afa5",
   "metadata": {},
   "source": [
    "### Plotting Orbit of Sail"
   ]
  },
  {
   "cell_type": "code",
   "execution_count": 73,
   "id": "ea148ff4",
   "metadata": {
    "scrolled": true
   },
   "outputs": [
    {
     "data": {
      "image/png": "[encoded data removed]",
      "text/plain": [
       "<Figure size 432x288 with 1 Axes>"
      ]
     },
     "metadata": {
      "needs_background": "light"
     },
     "output_type": "display_data"
    }
   ],
   "source": [
    "fig = plt.plot(x,y)\n",
    "plt.show()"
   ]
  },
  {
   "cell_type": "code",
   "execution_count": 111,
   "id": "8a98d18a",
   "metadata": {},
   "outputs": [],
   "source": [
    "R_array = np.linspace(0.5,1,10)\n",
    "sigma_array = np.linspace(1e-3,5e-3, 10)\n",
    "\n",
    "t2 = np.ones((10, 10))\n",
    "t10 = np.ones((10, 10))\n",
    "t20 = np.ones((10, 10))\n",
    "t50 = np.ones((10, 10))\n",
    "\n",
    "for i, R in enumerate(R_array):\n",
    "    for j, sigma in enumerate(sigma_array):\n",
    "        solution = odeint(sunAndSailODEs, y0,t, args=(R, sigma,0))\n",
    "        r, rdot, theta, thetadot = solution[:,0], solution[:,1], solution[:,2], solution[:,3]\n",
    "        t2[i][j] = r[2*1000]\n",
    "        t10[i][j] = r[10*1000]\n",
    "        t20[i][j] = r[20*1000]\n",
    "        t50[i][j] = r[50*1000]\n",
    "        "
   ]
  },
  {
   "cell_type": "code",
   "execution_count": 118,
   "id": "e21afd19",
   "metadata": {},
   "outputs": [
    {
     "data": {
      "image/png": "[encoded data removed]",
      "text/plain": [
       "<Figure size 432x288 with 2 Axes>"
      ]
     },
     "metadata": {
      "needs_background": "light"
     },
     "output_type": "display_data"
    },
    {
     "data": {
      "text/plain": [
       "[<matplotlib.lines.Line2D at 0x17d7243a0>]"
      ]
     },
     "execution_count": 118,
     "metadata": {},
     "output_type": "execute_result"
    },
    {
     "data": {
      "image/png": "[encoded data removed]",
      "text/plain": [
       "<Figure size 432x288 with 1 Axes>"
      ]
     },
     "metadata": {
      "needs_background": "light"
     },
     "output_type": "display_data"
    }
   ],
   "source": [
    "# Plot the surface.\n",
    "fig, ax = plt.subplots(subplot_kw={\"projection\": \"3d\"})\n",
    "X, Y = np.meshgrid(R_array, sigma_array)\n",
    "\n",
    "surf = ax.plot_surface(X, Y, t10, cmap=cm.coolwarm,\n",
    "                       linewidth=0, antialiased=True)\n",
    "\n",
    "# Add a color bar which maps values to colors.\n",
    "fig.colorbar(surf)\n",
    "plt.title(\"Mesh plot\")\n",
    "plt.xlabel(\"Reflectivity\")\n",
    "plt.ylabel(\"Sigma\")\n",
    "# plt.zlabel(\"Radius after 2 years\")\n",
    "plt.show()\n",
    "\n",
    "plt.plot(R_array, t10[:][9])"
   ]
  },
  {
   "cell_type": "markdown",
   "id": "8f598c2f",
   "metadata": {},
   "source": [
    "## 4 Bodies: Sun, Earth, Mars and Sail"
   ]
  },
  {
   "cell_type": "markdown",
   "id": "34fd592d",
   "metadata": {},
   "source": [
    "### Generating Function for ODEs"
   ]
  },
  {
   "cell_type": "markdown",
   "id": "8486f579",
   "metadata": {},
   "source": [
    "Below we wish to create a function which can produce arbitrarily many additional planets and model them idnividually."
   ]
  },
  {
   "cell_type": "code",
   "execution_count": 12,
   "id": "d01abb83",
   "metadata": {},
   "outputs": [
    {
     "ename": "SyntaxError",
     "evalue": "unexpected character after line continuation character (4258285852.py, line 5)",
     "output_type": "error",
     "traceback": [
      "\u001b[0;36m  File \u001b[0;32m\"/var/folders/19/h2rjx12n1_9_sg603hljkxw00000gn/T/ipykernel_18023/4258285852.py\"\u001b[0;36m, line \u001b[0;32m5\u001b[0m\n\u001b[0;31m    return ((2*r1 - r2 * math.cos(theta1-theta2)) / ((r1**2 + r2**2 - 2 * r1 * r2 * \\\u001b[0m\n\u001b[0m                                                                                      ^\u001b[0m\n\u001b[0;31mSyntaxError\u001b[0m\u001b[0;31m:\u001b[0m unexpected character after line continuation character\n"
     ]
    }
   ],
   "source": [
    "def polarDistance(r1,r2,theta1,theta2):\n",
    "    return math.sqrt(r1**2 + r2**2 - 2 * r1 * r2 * math.cos(theta1 - theta2))\n",
    "\n",
    "def g1(r1,r2,theta1,theta2):\n",
    "    return ((2*r1 - r2 * math.cos(theta1-theta2)) / ((r1**2 + r2**2 - 2 * r1 * r2 * \\ \n",
    "            math.cos(theta1 - theta2))**(3/2)))\n",
    "\n",
    "def g2(r1,r2,theta1,theta2):\n",
    "    return (r_2 * math.sin(theta1 - theta2)) / (r_1*(r1**2 + r2**2 - 2 * r1 * r2 * \\ \n",
    "            math.cos(theta1 - theta2))**(3/2))"
   ]
  },
  {
   "cell_type": "code",
   "execution_count": null,
   "id": "fe04c23f",
   "metadata": {},
   "outputs": [],
   "source": [
    "def fourBodyODEs(x,t,R,area_to_mass,phi):\n",
    "    r = x[0]\n",
    "    r_dot = x[1]\n",
    "    theta = x[2]\n",
    "    theta_dot = x[3]\n",
    "    r_e = x[4]\n",
    "    r_e_dot = x[5]\n",
    "    theta_e = x[6]\n",
    "    theta_e_dot = x[7]\n",
    "    r_m = x[8]\n",
    "    r_m_dot = x[9]\n",
    "    theta_m = x[10]\n",
    "    theta_m_dot = x[11]\n",
    "    \n",
    "    # Additional terms so the lines aren't quite so long.\n",
    "    \n",
    "    sail_and_earth_term_r = G_CONSTANT * EARTH_MASS_CONSTANT * polarDistancePartialr1(r,r_e,theta,theta_e)\n",
    "    sail_and_mars_term_r = G_CONSTANT * MARS_MASS_CONSTANT * polarDistancePartialr1(r,r_m,theta,theta_m)\n",
    "    \n",
    "    sail_and_earth_term_theta = G_CONSTANT * EARTH_MASS_CONSTANT * polarDistancePartialtheta1(r,r_e,theta,theta_e)\n",
    "    sail_and_mars_term_theta = G_CONSTANT * MARS_MASS_CONSTANT * polarDistancePartialtheta1(r,r_m,theta,theta_m)\n",
    "    \n",
    "    force_r = (L0_CONSTANT / (4 * C_CONSTANT * math.pi)) * area_to_mass * (1 + R * math.cos(2 * phi)) \\\n",
    "            * math.cos(phi) / r**2\n",
    "    \n",
    "    force_t = L0_CONSTANT / (4 * C_CONSTANT * math.pi) * area_to_mass * R * math.sin(2 * phi) * math.cos(phi) / r**3\n",
    "    \n",
    "    \n",
    "\n",
    "    r_ddot = r * theta_dot**2 +  + (G_CONSTANT * SOLAR_MASS_CONSTANT) /r**2 \\\n",
    "            - sail_and_earth_term_r - sail_and_mars_term_r\n",
    "    \n",
    "    theta_ddot = (-2/r) * r_dot * theta_dot - sail_and_earth_term_theta/r**2 - sail_and_mars_term_theta/r**2 - force_t\n",
    "    \n",
    "    \n",
    "    return [r_dot, r_ddot, theta_dot, theta_ddot, r_e_dot, r_e_ddot, theta_e_dot, theta_e_ddot, \\\n",
    "           r_m_dot, r_m_ddot]"
   ]
  },
  {
   "cell_type": "code",
   "execution_count": null,
   "id": "cab36830",
   "metadata": {},
   "outputs": [],
   "source": []
  }
 ],
 "metadata": {
  "kernelspec": {
   "display_name": "Python 3.9.2 64-bit ('base': conda)",
   "language": "python",
   "name": "python392jvsc74a57bd09cf92712724cbbc1f114fdb43a3467004c3e0433ef1e6304bd827ac5c98124f0"
  },
  "language_info": {
   "codemirror_mode": {
    "name": "ipython",
    "version": 3
   },
   "file_extension": ".py",
   "mimetype": "text/x-python",
   "name": "python",
   "nbconvert_exporter": "python",
   "pygments_lexer": "ipython3",
   "version": "3.9.2"
  }
 },
 "nbformat": 4,
 "nbformat_minor": 5
}
