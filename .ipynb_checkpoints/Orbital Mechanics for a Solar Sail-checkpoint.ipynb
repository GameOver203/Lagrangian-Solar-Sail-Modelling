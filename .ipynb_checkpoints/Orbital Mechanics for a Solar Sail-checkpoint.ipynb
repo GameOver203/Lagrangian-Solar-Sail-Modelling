{
 "cells": [
  {
   "cell_type": "markdown",
   "id": "750ba27e",
   "metadata": {},
   "source": [
    "# Orbital Mechanics for a Solar Sail\n",
    "\n",
    "This notebook was created for the simulation of a solar sail in various orbital systems.\n",
    "\n"
   ]
  },
  {
   "cell_type": "markdown",
   "id": "8a545134",
   "metadata": {},
   "source": [
    "## Imports\n",
    "\n",
    "There are various libraries that must be imported for the simulation of coupled ODEs"
   ]
  },
  {
   "cell_type": "code",
   "execution_count": 1,
   "id": "16d4a2fa",
   "metadata": {},
   "outputs": [],
   "source": [
    "from scipy.integrate import odeint\n",
    "import numpy as np\n",
    "import math\n",
    "import matplotlib.pyplot as pyplt\n",
    "import matplotlib as plt"
   ]
  },
  {
   "cell_type": "markdown",
   "id": "38e1f84c",
   "metadata": {},
   "source": [
    "## Universal Constants\n",
    "\n",
    "There are some universal constants which remain the same no matter the system and we define them here at a top level for future use."
   ]
  },
  {
   "cell_type": "code",
   "execution_count": 2,
   "id": "372b5478",
   "metadata": {},
   "outputs": [],
   "source": [
    "G_CONSTANT = 6.67e-11\n",
    "C_CONSTANT = 299792458\n",
    "L0_CONSTANT = 3.83e26\n",
    "SOLAR_MASS_CONSTANT = 1.99e30\n",
    "EARTH_MASS_CONSTANT = 5.97e24\n",
    "MARS_MASS_CONSTANT = 6.39e23"
   ]
  },
  {
   "cell_type": "markdown",
   "id": "d7a750c1",
   "metadata": {},
   "source": [
    "## Sail Parameters\n",
    "\n",
    "For our sail, we consider common design trends and come up with parameters based on these for three different designs. The first being a small 'concept' sail, a larger sail for interplanetary travel and an even larger sail for interstellar travel. \n",
    "* In terms of reflectivity, most sails use an aluminium layer of thickness 20 nm or more. This achieves a reflectivity of between 0.88 and 0.9. Thus we base our parameter for the concept and interplanetary designs on the average of these two. I.e. 0.89. For the interstellar vehicle, we assume some progress in technology and thus aim for a reflectivity of 0.95.\n",
    "* For area and mass. We consider their ratio. The IKAROS mission had a mass of 315 kg, an area of 14x14 metres and thus a ratio of 196:315 so we use this for the concept sail. For interstellar designs a ratio of 12960:1 is cited by Robert L. Forward. Thus, for the interplanetary sail we take a value imbetween these of 1000:1.\n"
   ]
  },
  {
   "cell_type": "code",
   "execution_count": 3,
   "id": "bf71d1dd",
   "metadata": {},
   "outputs": [],
   "source": [
    "concept_sail_reflectivity = 0.89\n",
    "planetary_sail_reflectivity = 0.89\n",
    "stellar_sail_reflectivity = 0.95\n",
    "\n",
    "concept_sail_mass_to_area = 1/0.622\n",
    "planetary_sail_mass_to_area = 1/1000\n",
    "stellar_sail_mass_to_area = 1/12960"
   ]
  },
  {
   "cell_type": "markdown",
   "id": "295688b0",
   "metadata": {},
   "source": [
    "## 2 Bodies: Sun and Sail"
   ]
  },
  {
   "cell_type": "markdown",
   "id": "b8a6f5b0",
   "metadata": {},
   "source": [
    "For this our two equations are as follows:\n",
    "\n",
    "$$\\ddot r = r \\dot \\theta^2 + \\frac{G M}{r^2} + \\frac{\\left(1 + R \\cos(2 \\phi) \\right) L_0 A}{4 c m \\pi r^2} \\cos(\\phi)$$\n",
    "\n",
    "$$\\ddot \\theta = - \\frac{2 \\dot r \\dot \\theta}{r} - \\frac{R \\sin(2 \\phi) L_0 A}{4 c \\pi m r^3} \\cos(\\phi)$$\n",
    "\n",
    "However, we group parameters in such a way by setting:\n",
    "\n",
    "$$\\tau = t_c t, \\text{ where: } t_c = 31536000 \\\\$$\n",
    "$$\\tilde{r} = r_c r, \\text{ where: } r_c = 1.495978707 \\cdot 10^{11}$$ \n",
    "\n",
    "So as to produce:\n",
    "\n",
    "$$\\tilde{r}^2 \\frac{d^2 \\tilde{r}}{d \\tau^2} = \\tilde{r}^3 \\left(\\frac{d \\theta}{d \\tau}\\right)^2 + \\alpha \\sigma \\left(1 + R \\cos(2 \\phi) \\right) \\cos(\\phi) + \\beta $$\n",
    "$$\\tilde{r}^3 \\frac{d^2 \\theta}{d \\tau^2} = - 2 \\tilde{r}^2 \\frac{d \\tilde{r}}{d \\tau} \\frac{d \\theta}{d \\tau} - \\alpha \\sigma R \\sin(2 \\phi) \\cos(\\phi)$$\n",
    "\n",
    "Where:\n",
    "\n",
    "$$\\alpha = \\frac{t_c^2}{r_c^3} \\frac{L_0}{4 c \\pi}$$\n",
    "$$\\beta = \\frac{t_c^2}{r_c^3} GM$$\n",
    "$$\\sigma = \\frac{m}{A}$$"
   ]
  },
  {
   "cell_type": "code",
   "execution_count": 4,
   "id": "cfed2ef0",
   "metadata": {},
   "outputs": [],
   "source": [
    "ts = 365 * 24 * 60 * 60\n",
    "rs = 1.495978707e11"
   ]
  },
  {
   "cell_type": "code",
   "execution_count": 5,
   "id": "0fc5d519",
   "metadata": {},
   "outputs": [
    {
     "name": "stdout",
     "output_type": "stream",
     "text": [
      "0.03019987773807573\n",
      "39.429011388749956\n"
     ]
    }
   ],
   "source": [
    "alpha = ((ts**2)/(rs**3)) * (L0_CONSTANT / (4 * C_CONSTANT * math.pi))\n",
    "print(alpha)\n",
    "beta = ((ts**2)/(rs**3)) * G_CONSTANT * SOLAR_MASS_CONSTANT\n",
    "print(beta)"
   ]
  },
  {
   "cell_type": "code",
   "execution_count": 6,
   "id": "1aa8b508",
   "metadata": {},
   "outputs": [],
   "source": [
    "def sunAndSailODEs(y,t,R,sigma,phi):\n",
    "    r = y[0]\n",
    "    rdot = y[1]\n",
    "    theta = y[2]\n",
    "    thetadot = y[3]\n",
    "    \n",
    "    rddot = r * (thetadot**2) + (alpha / sigma) * (1 + R * np.cos(2 * phi)) * np.cos(phi) + (beta / r**2)\n",
    "    thetaddot = (((-1) * 2)/r) * rdot * thetadot - (alpha / sigma) * R * np.sin(2 * phi) * np.cos(phi)\n",
    "    \n",
    "    return [rdot,rddot,thetadot,thetaddot]"
   ]
  },
  {
   "cell_type": "markdown",
   "id": "445165d9",
   "metadata": {},
   "source": [
    "### Initial Conditions and Arguments\n",
    "\n",
    "We have our concept solar sail initially going around the sun at Earth's orbital radius with an initial velocity equivalent to that of the planet. "
   ]
  },
  {
   "cell_type": "code",
   "execution_count": 24,
   "id": "71114496",
   "metadata": {},
   "outputs": [],
   "source": [
    "r0, theta0, rdot0, thetadot0 = 1, 0, 0, np.pi\n",
    "y0 = [r0,theta0,rdot0,thetadot0]"
   ]
  },
  {
   "cell_type": "markdown",
   "id": "a217f57d",
   "metadata": {},
   "source": [
    "### Solving ODEs\n",
    "\n",
    "To solve the ODEs we use a function called odeint from the scipy library"
   ]
  },
  {
   "cell_type": "code",
   "execution_count": 25,
   "id": "ba3d7794",
   "metadata": {},
   "outputs": [
    {
     "name": "stdout",
     "output_type": "stream",
     "text": [
      "[[1.         0.         0.         3.14159265]\n",
      " [1.01022793 0.99861118 0.06368031 3.07830129]\n",
      " [1.04046621 1.95441872 0.12487112 2.90197663]\n",
      " [1.08947767 2.83392241 0.18159026 2.64675176]\n",
      " [1.15548296 3.61782222 0.23264137 2.35300465]\n",
      " [1.23645305 4.30049975 0.27760455 2.05491855]\n",
      " [1.3303527  4.88620945 0.31664225 1.77507326]\n",
      " [1.43529626 5.38467724 0.35026076 1.52498924]\n",
      " [1.54962205 5.80766858 0.37911473 1.30827282]\n",
      " [1.67191035 6.16687954 0.40388009 1.1238903 ]\n",
      " [1.80096986 6.4728906  0.42518574 0.96858337]\n",
      " [1.93581025 6.73479302 0.44358464 0.83834798]\n",
      " [2.07561124 6.96017559 0.45954751 0.72921881]\n",
      " [2.21969329 7.15527328 0.47346783 0.63762296]\n",
      " [2.36749199 7.32516896 0.48567126 0.56049643]\n",
      " [2.51853662 7.47399502 0.49642617 0.49528292]\n",
      " [2.67243268 7.60511289 0.50595355 0.43988215]\n",
      " [2.82884769 7.72126397 0.51443558 0.39258234]\n",
      " [2.98749986 7.82469274 0.52202291 0.35199306]\n",
      " [3.14814899 7.91724547 0.52884057 0.31698546]\n",
      " [3.31058919 8.00044874 0.53499278 0.28664166]\n",
      " [3.474643   8.07557152 0.54056683 0.26021332]\n",
      " [3.64015664 8.14367444 0.54563618 0.2370881 ]\n",
      " [3.80699621 8.20564879 0.55026293 0.21676293]\n",
      " [3.97504454 8.26224749 0.55449985 0.19882267]\n",
      " [4.1441986  8.31410991 0.55839201 0.1829232 ]\n",
      " [4.31436747 8.36178167 0.56197803 0.16877792]\n",
      " [4.4854705  8.40573064 0.5652912  0.15614709]\n",
      " [4.65743594 8.44635985 0.5683603  0.14482919]\n",
      " [4.83019968 8.48401801 0.57121036 0.13465414]\n",
      " [5.00370425 8.51900812 0.57386318 0.12547771]\n",
      " [5.17789796 8.55159451 0.57633785 0.11717713]\n",
      " [5.35273415 8.58200864 0.57865116 0.10964743]\n",
      " [5.52817063 8.61045399 0.58081789 0.10279854]\n",
      " [5.70416909 8.63711002 0.58285112 0.09655283]\n",
      " [5.88069465 8.66213552 0.58476247 0.09084322]\n",
      " [6.05771551 8.68567151 0.58656226 0.08561149]\n",
      " [6.23520258 8.70784353 0.58825972 0.08080694]\n",
      " [6.41312918 8.72876372 0.5898631  0.0763853 ]\n",
      " [6.59147082 8.7485325  0.59137982 0.07230779]\n",
      " [6.77020492 8.76724006 0.59281655 0.06854032]\n",
      " [6.94931068 8.78496758 0.59417929 0.06505285]\n",
      " [7.12876886 8.80178832 0.59547349 0.06181882]\n",
      " [7.30856163 8.81776856 0.59670407 0.05881471]\n",
      " [7.48867247 8.83296838 0.59787551 0.05601961]\n",
      " [7.66908602 8.84744236 0.59899188 0.05341491]\n",
      " [7.84978797 8.86124022 0.6000569  0.050984  ]\n",
      " [8.030765   8.87440728 0.60107394 0.04871199]\n",
      " [8.21200467 8.88698497 0.60204613 0.04658556]\n",
      " [8.39349533 8.89901125 0.6029763  0.04459273]]\n"
     ]
    }
   ],
   "source": [
    "t = np.linspace(0, 1,50)\n",
    "\n",
    "y = odeint(sunAndSailODEs, y0,t, args=(0.5,10e7,0)) #printmessg=True, full_output=True\n",
    "\n",
    "r, rdot, theta, thetadot = y[:,0], y[:,1], y[:,2], y[:,3]\n",
    "\n",
    "print(y)"
   ]
  },
  {
   "cell_type": "markdown",
   "id": "6bc8dba4",
   "metadata": {},
   "source": [
    "### Plotting Solution\n",
    "\n",
    "We convert back to cartesian to plot the results."
   ]
  },
  {
   "cell_type": "code",
   "execution_count": 26,
   "id": "c72e65c1",
   "metadata": {},
   "outputs": [],
   "source": [
    "def polarToCartesian(r, theta):\n",
    "    x = r * np.cos(theta)\n",
    "    y = r * np.sin(theta)\n",
    "    return(x, y)\n",
    "\n",
    "(x,y) = polarToCartesian(r,theta)"
   ]
  },
  {
   "cell_type": "markdown",
   "id": "1c26e313",
   "metadata": {},
   "source": [
    "### Plotting Orbital Radius as a Function of Time"
   ]
  },
  {
   "cell_type": "code",
   "execution_count": 27,
   "id": "e6617544",
   "metadata": {},
   "outputs": [
    {
     "data": {
      "image/png": "[encoded data removed]",
      "text/plain": [
       "<Figure size 432x288 with 1 Axes>"
      ]
     },
     "metadata": {
      "needs_background": "light"
     },
     "output_type": "display_data"
    }
   ],
   "source": [
    "fig = pyplt.plot(t,r)\n",
    "pyplt.show()"
   ]
  },
  {
   "cell_type": "markdown",
   "id": "3ba0afa5",
   "metadata": {},
   "source": [
    "### Plotting Orbit of Sail"
   ]
  },
  {
   "cell_type": "code",
   "execution_count": 28,
   "id": "ea148ff4",
   "metadata": {
    "scrolled": false
   },
   "outputs": [
    {
     "data": {
      "image/png": "[encoded data removed]",
      "text/plain": [
       "<Figure size 432x288 with 1 Axes>"
      ]
     },
     "metadata": {
      "needs_background": "light"
     },
     "output_type": "display_data"
    }
   ],
   "source": [
    "fig = pyplt.plot(x,y)\n",
    "pyplt.show()"
   ]
  },
  {
   "cell_type": "markdown",
   "id": "8f598c2f",
   "metadata": {},
   "source": [
    "## 4 Bodies: Sun, Earth, Mars and Sail"
   ]
  },
  {
   "cell_type": "markdown",
   "id": "34fd592d",
   "metadata": {},
   "source": [
    "### Generating Function for ODEs"
   ]
  },
  {
   "cell_type": "markdown",
   "id": "8486f579",
   "metadata": {},
   "source": [
    "Below we wish to create a function which can produce arbitrarily many additional planets and model them idnividually."
   ]
  },
  {
   "cell_type": "code",
   "execution_count": null,
   "id": "d01abb83",
   "metadata": {},
   "outputs": [],
   "source": [
    "def polarDistance(r1,r2,theta1,theta2):\n",
    "    return math.sqrt(r1**2 + r2**2 - 2 * r1 * r2 * math.cos(theta1 - theta2))\n",
    "\n",
    "def g1(r1,r2,theta1,theta2):\n",
    "    return ((2*r1 - r2 * math.cos(theta1-theta2)) / ((r1**2 + r2**2 - 2 * r1 * r2 * \\ \n",
    "            math.cos(theta1 - theta2))**(3/2)))\n",
    "\n",
    "def g2(r1,r2,theta1,theta2):\n",
    "    return (r_2 * math.sin(theta1 - theta2)) / (r_1*(r1**2 + r2**2 - 2 * r1 * r2 * \\ \n",
    "            math.cos(theta1 - theta2))**(3/2))"
   ]
  },
  {
   "cell_type": "code",
   "execution_count": null,
   "id": "fe04c23f",
   "metadata": {},
   "outputs": [],
   "source": [
    "def fourBodyODEs(x,t,R,area_to_mass,phi):\n",
    "    r = x[0]\n",
    "    r_dot = x[1]\n",
    "    theta = x[2]\n",
    "    theta_dot = x[3]\n",
    "    r_e = x[4]\n",
    "    r_e_dot = x[5]\n",
    "    theta_e = x[6]\n",
    "    theta_e_dot = x[7]\n",
    "    r_m = x[8]\n",
    "    r_m_dot = x[9]\n",
    "    theta_m = x[10]\n",
    "    theta_m_dot = x[11]\n",
    "    \n",
    "    # Additional terms so the lines aren't quite so long.\n",
    "    \n",
    "    sail_and_earth_term_r = G_CONSTANT * EARTH_MASS_CONSTANT * polarDistancePartialr1(r,r_e,theta,theta_e)\n",
    "    sail_and_mars_term_r = G_CONSTANT * MARS_MASS_CONSTANT * polarDistancePartialr1(r,r_m,theta,theta_m)\n",
    "    \n",
    "    sail_and_earth_term_theta = G_CONSTANT * EARTH_MASS_CONSTANT * polarDistancePartialtheta1(r,r_e,theta,theta_e)\n",
    "    sail_and_mars_term_theta = G_CONSTANT * MARS_MASS_CONSTANT * polarDistancePartialtheta1(r,r_m,theta,theta_m)\n",
    "    \n",
    "    force_r = (L0_CONSTANT / (4 * C_CONSTANT * math.pi)) * area_to_mass * (1 + R * math.cos(2 * phi)) \\\n",
    "            * math.cos(phi) / r**2\n",
    "    \n",
    "    force_t = L0_CONSTANT / (4 * C_CONSTANT * math.pi) * area_to_mass * R * math.sin(2 * phi) * math.cos(phi) / r**3\n",
    "    \n",
    "    \n",
    "\n",
    "    r_ddot = r * theta_dot**2 +  + (G_CONSTANT * SOLAR_MASS_CONSTANT) /r**2 \\\n",
    "            - sail_and_earth_term_r - sail_and_mars_term_r\n",
    "    \n",
    "    theta_ddot = (-2/r) * r_dot * theta_dot - sail_and_earth_term_theta/r**2 - sail_and_mars_term_theta/r**2 - force_t\n",
    "    \n",
    "    \n",
    "    return [r_dot, r_ddot, theta_dot, theta_ddot, r_e_dot, r_e_ddot, theta_e_dot, theta_e_ddot, \\\n",
    "           r_m_dot, r_m_ddot]"
   ]
  },
  {
   "cell_type": "code",
   "execution_count": null,
   "id": "cab36830",
   "metadata": {},
   "outputs": [],
   "source": []
  }
 ],
 "metadata": {
  "kernelspec": {
   "display_name": "Python 3.9.2 64-bit ('base': conda)",
   "language": "python",
   "name": "python392jvsc74a57bd09cf92712724cbbc1f114fdb43a3467004c3e0433ef1e6304bd827ac5c98124f0"
  },
  "language_info": {
   "codemirror_mode": {
    "name": "ipython",
    "version": 3
   },
   "file_extension": ".py",
   "mimetype": "text/x-python",
   "name": "python",
   "nbconvert_exporter": "python",
   "pygments_lexer": "ipython3",
   "version": "3.9.2"
  }
 },
 "nbformat": 4,
 "nbformat_minor": 5
}
